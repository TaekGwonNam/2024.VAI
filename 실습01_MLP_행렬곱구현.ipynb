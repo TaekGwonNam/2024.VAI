{
  "nbformat": 4,
  "nbformat_minor": 0,
  "metadata": {
    "colab": {
      "private_outputs": true,
      "provenance": [],
      "authorship_tag": "ABX9TyOKkN2JFBzuf1IdeT46mrVs",
      "include_colab_link": true
    },
    "kernelspec": {
      "name": "python3",
      "display_name": "Python 3"
    },
    "language_info": {
      "name": "python"
    }
  },
  "cells": [
    {
      "cell_type": "markdown",
      "metadata": {
        "id": "view-in-github",
        "colab_type": "text"
      },
      "source": [
        "<a href=\"https://colab.research.google.com/github/TaekGwonNam/2024.VAI/blob/main/%EC%8B%A4%EC%8A%B501_MLP_%ED%96%89%EB%A0%AC%EA%B3%B1%EA%B5%AC%ED%98%84.ipynb\" target=\"_parent\"><img src=\"https://colab.research.google.com/assets/colab-badge.svg\" alt=\"Open In Colab\"/></a>"
      ]
    },
    {
      "cell_type": "code",
      "execution_count": null,
      "metadata": {
        "id": "zOHiL80e8vCl"
      },
      "outputs": [],
      "source": [
        "import numpy as np\n",
        "import matplotlib.pyplot as plt\n",
        "%matplotlib inline\n",
        "\n",
        "import torch\n",
        "import torchvision. datasets as dset\n",
        "import torchvision.transforms as transforms"
      ]
    },
    {
      "cell_type": "code",
      "source": [
        "mnist_test=dset.MNIST(\"\", train=False, transform=transforms. ToTensor(), target_transform=None, download=True)"
      ],
      "metadata": {
        "id": "Q4BQuMF79ZWM"
      },
      "execution_count": null,
      "outputs": []
    },
    {
      "cell_type": "code",
      "source": [
        "print(\"mnist_test 길이:\"), len(mnist_test)\n",
        "# 데이터 하나 형태\n",
        "image, label = mnist_test.__getitem__(0) # 0번째 데이터 print image data 형태:\" , inage.sizel)\n",
        "print(\"label : \"), label\n",
        "# 그리기\n",
        "img = image.numpy()\n",
        "# image 타입을 numpy 로 변환 (1,28,28)\n",
        "plt.title(\"label: %d\" %label)\n",
        "plt.imshow(img[0], cmap='gray')\n",
        "plt.show()"
      ],
      "metadata": {
        "id": "v29Vjg8c9z5M"
      },
      "execution_count": null,
      "outputs": []
    },
    {
      "cell_type": "code",
      "source": [
        "def sigmoid(x):\n",
        "  return 1 / (1 + np.exp(-x))\n",
        "\n",
        "\n",
        "\n",
        "\n",
        "def softmax(x):\n",
        "  ex = np.exp(x)\n",
        "  return ex / np.sum(ex, axis=1, keepdims=True)\n",
        "#np.exp()\n",
        "#np.sum(x)"
      ],
      "metadata": {
        "id": "qiogdmA3-Us0"
      },
      "execution_count": null,
      "outputs": []
    },
    {
      "cell_type": "code",
      "source": [
        "class MyMLP:\n",
        "  def __init__(self, n_input, n_hidden1, n_hidden2, n_output):\n",
        "    self.W1 = np.zeros((n_hidden1, n_input), dtype=np.float32)\n",
        "    self.b1 = np.zeros((n_hidden1,), dtype=np.float32)\n",
        "\n",
        "    self.W2 = np.zeros((n_hidden2, n_hidden1), dtype=np.float32)\n",
        "    self.b2 = np.zeros((n_hidden2,), dtype=np.float32)\n",
        "\n",
        "    self.W3 = np.zeros((n_output, n_hidden2), dtype=np.float32)\n",
        "    self.b3 = np.zeros((n_output,), dtype=np.float32)\n",
        "\n",
        "\n",
        "  def __call__(self, x) :\n",
        "    x= x.reshape(-1) # 일렬로 피기\n",
        "\n",
        "    h1= sigmoid(np.dot (self.w1, x)+self.b1)\n",
        "    h2= np.dot(self.w2, h1) + self.b2 # W2(128, 256), h1(256), b2(128) -> h2(128)\n",
        "    out = np. dot (self.w3, h2) + self.b3\n",
        "\n",
        "    return softmax(out) # (10)"
      ],
      "metadata": {
        "id": "NYPAOnZG-cUU"
      },
      "execution_count": null,
      "outputs": []
    },
    {
      "cell_type": "code",
      "source": [
        "model = MyMLP(28*28, 256, 128, 10)\n",
        "\n",
        "print(model.W1.shape, model.b1.shape)\n",
        "print(model.W2.shape, model.b2.shape)\n",
        "print(model.W3.shape, model.b3.shape)"
      ],
      "metadata": {
        "id": "XBdXkaCWACOF"
      },
      "execution_count": null,
      "outputs": []
    },
    {
      "cell_type": "code",
      "source": [
        "weights = np.load('./nets/mlp_weight.npz')\n",
        "model.W1 = weights['W1']\n",
        "model.b1 = weights['b1']\n",
        "model.W2 = weights['W2']\n",
        "model.b2 = weights['b2']\n",
        "model.W3 = weights['W3']\n",
        "model.b3 = weights['b3']\n",
        "\n",
        "print(model.W1.shape, model.b1.shape)\n",
        "print(model.W2.shape, model.b2.shape)\n",
        "print(model.W3.shape, model.b3.shape)"
      ],
      "metadata": {
        "id": "7a-6soBrAph8"
      },
      "execution_count": null,
      "outputs": []
    }
  ]
}