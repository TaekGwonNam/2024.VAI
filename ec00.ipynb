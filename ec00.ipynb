{
  "nbformat": 4,
  "nbformat_minor": 0,
  "metadata": {
    "colab": {
      "provenance": [],
      "authorship_tag": "ABX9TyNKmyLIMcT7HArDx7mClVxU",
      "include_colab_link": true
    },
    "kernelspec": {
      "name": "python3",
      "display_name": "Python 3"
    },
    "language_info": {
      "name": "python"
    }
  },
  "cells": [
    {
      "cell_type": "markdown",
      "metadata": {
        "id": "view-in-github",
        "colab_type": "text"
      },
      "source": [
        "<a href=\"https://colab.research.google.com/github/TaekGwonNam/2024.VAI/blob/main/ec00.ipynb\" target=\"_parent\"><img src=\"https://colab.research.google.com/assets/colab-badge.svg\" alt=\"Open In Colab\"/></a>"
      ]
    },
    {
      "cell_type": "code",
      "execution_count": 3,
      "metadata": {
        "id": "W7CZqF5_7vbS"
      },
      "outputs": [],
      "source": [
        "import numpy  as np\n",
        "\n",
        "def print_val(x):\n",
        "  print(\"Type:\",type(x))\n",
        "  print(\"Shape:\",x.shape)\n",
        "  print(\"값:\\n\",x)\n",
        "  print(\"\")"
      ]
    },
    {
      "cell_type": "markdown",
      "source": [
        "**rank 1 np array**"
      ],
      "metadata": {
        "id": "rMARV1PChnYN"
      }
    },
    {
      "cell_type": "code",
      "source": [
        "  x = np.array([1,2,3])\n",
        "  print_val(x)\n",
        "\n",
        "  x[0] = 5\n",
        "  print_val(x)"
      ],
      "metadata": {
        "colab": {
          "base_uri": "https://localhost:8080/"
        },
        "id": "GtqWN7n0hlvF",
        "outputId": "e0264151-a215-4952-b222-c9520380f49e"
      },
      "execution_count": 4,
      "outputs": [
        {
          "output_type": "stream",
          "name": "stdout",
          "text": [
            "Type: <class 'numpy.ndarray'>\n",
            "Shape: (3,)\n",
            "값:\n",
            " [1 2 3]\n",
            "\n",
            "Type: <class 'numpy.ndarray'>\n",
            "Shape: (3,)\n",
            "값:\n",
            " [5 2 3]\n",
            "\n"
          ]
        }
      ]
    },
    {
      "cell_type": "markdown",
      "source": [
        "**rank2 np array**"
      ],
      "metadata": {
        "id": "MzX6zyGlh2ae"
      }
    },
    {
      "cell_type": "code",
      "source": [
        "  y = np.array([[1,2,3], [4,5,6]])\n",
        "  print_val(y)"
      ],
      "metadata": {
        "id": "Xo9c8mlzh5BM"
      },
      "execution_count": null,
      "outputs": []
    }
  ]
}